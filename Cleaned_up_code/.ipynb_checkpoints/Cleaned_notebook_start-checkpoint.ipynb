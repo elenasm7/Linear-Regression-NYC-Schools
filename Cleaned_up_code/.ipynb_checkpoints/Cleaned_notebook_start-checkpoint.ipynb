{
 "cells": [
  {
   "cell_type": "markdown",
   "metadata": {},
   "source": [
    "### importing all necessary modules and libraries"
   ]
  },
  {
   "cell_type": "code",
   "execution_count": 1,
   "metadata": {
    "collapsed": true
   },
   "outputs": [],
   "source": [
    "import pandas as pd\n",
    "from sodapy import Socrata\n",
    "import zipfile\n",
    "import seaborn as sns\n",
    "import matplotlib.pyplot as plt \n",
    "import numpy as np\n",
    "import pandas as pd\n",
    "import scipy.stats as stats\n",
    "import statsmodels\n",
    "import statsmodels.api as sm\n",
    "import statsmodels.formula.api as smf\n",
    "import statsmodels.stats.api as sms\n",
    "%matplotlib inline\n",
    "from linear_reg_functions import *"
   ]
  },
  {
   "cell_type": "markdown",
   "metadata": {},
   "source": [
    "__Download the files from Kaggle__"
   ]
  },
  {
   "cell_type": "code",
   "execution_count": 2,
   "metadata": {},
   "outputs": [
    {
     "name": "stdout",
     "output_type": "stream",
     "text": [
      "Warning: Your Kaggle API key is readable by other users on this system! To fix this, you can run 'chmod 600 /Users/elenasm7/.kaggle/kaggle.json'\n",
      "Downloading data-science-for-good.zip to /Users/elenasm7/Desktop/Flatiron/Mod_2/Linear-Regression-NYC-Schools/Cleaned_up_code\n",
      "  0%|                                                | 0.00/164k [00:00<?, ?B/s]\n",
      "100%|████████████████████████████████████████| 164k/164k [00:00<00:00, 7.04MB/s]\n"
     ]
    }
   ],
   "source": [
    "!kaggle datasets download -d passnyc/data-science-for-good"
   ]
  },
  {
   "cell_type": "markdown",
   "metadata": {},
   "source": [
    "__This downloaded a Zip file into our directory, so below we are unzipping them__"
   ]
  },
  {
   "cell_type": "code",
   "execution_count": 3,
   "metadata": {
    "collapsed": true
   },
   "outputs": [],
   "source": [
    "#unzipping kaggle zip files\n",
    "zip_ref = zipfile.ZipFile('data-science-for-good.zip', 'r')\n",
    "zip_ref.extractall('')\n",
    "zip_ref.close()"
   ]
  },
  {
   "cell_type": "code",
   "execution_count": 4,
   "metadata": {
    "collapsed": true
   },
   "outputs": [],
   "source": [
    "kaggle_school_data_df = pd.read_csv('2016_School_Explorer.csv')"
   ]
  },
  {
   "cell_type": "markdown",
   "metadata": {},
   "source": [
    "__importing the first graduation dataf file from NYC Open Data__\n",
    "\n",
    "We are using the socrata request function defined in our functions file imported above."
   ]
  },
  {
   "cell_type": "code",
   "execution_count": 6,
   "metadata": {},
   "outputs": [
    {
     "name": "stderr",
     "output_type": "stream",
     "text": [
      "WARNING:root:Requests made without an app_token will be subject to strict throttling limits.\n"
     ]
    }
   ],
   "source": [
    "HS_results_df_1 = socrata_request(\"nb39-jx2v\",255718,\"data.cityofnewyork.us\")\n",
    "HS_results_df_1.to_csv('2016_2017_Graduation_Outcomes_School')"
   ]
  },
  {
   "cell_type": "code",
   "execution_count": 7,
   "metadata": {},
   "outputs": [
    {
     "name": "stderr",
     "output_type": "stream",
     "text": [
      "WARNING:root:Requests made without an app_token will be subject to strict throttling limits.\n"
     ]
    }
   ],
   "source": [
    "HS_resutls_df_2 = socrata_request(\"qvir-knu3\",438,\"data.cityofnewyork.us\")\n",
    "HS_resutls_df_2.to_csv('2016_DOE_High_School_Performance_Directory')"
   ]
  },
  {
   "cell_type": "markdown",
   "metadata": {},
   "source": [
    "_Importing more files from NYC Open Data: discipline and pupil-to-teacher ratio_ "
   ]
  },
  {
   "cell_type": "code",
   "execution_count": 8,
   "metadata": {},
   "outputs": [
    {
     "name": "stderr",
     "output_type": "stream",
     "text": [
      "WARNING:root:Requests made without an app_token will be subject to strict throttling limits.\n"
     ]
    }
   ],
   "source": [
    "discipline_2016_race_df = socrata_request(\"ewg2-2vyd\",1744,\"data.cityofnewyork.us\")\n",
    "discipline_2016_race_df.to_csv('discipline_2016_race_df.csv')"
   ]
  },
  {
   "cell_type": "code",
   "execution_count": 9,
   "metadata": {},
   "outputs": [
    {
     "name": "stderr",
     "output_type": "stream",
     "text": [
      "WARNING:root:Requests made without an app_token will be subject to strict throttling limits.\n"
     ]
    }
   ],
   "source": [
    "student_discipline_grades_df = socrata_request('29bv-qqsy',438,\"data.cityofnewyork.us\")\n",
    "student_discipline_grades_df.to_csv('discipline_2016_grades_df.csv')"
   ]
  },
  {
   "cell_type": "code",
   "execution_count": 10,
   "metadata": {},
   "outputs": [
    {
     "name": "stderr",
     "output_type": "stream",
     "text": [
      "WARNING:root:Requests made without an app_token will be subject to strict throttling limits.\n"
     ]
    }
   ],
   "source": [
    "student_pupil_ratio_df = socrata_request('x3kb-2vbv',438,\"data.cityofnewyork.us\")\n",
    "student_pupil_ratio_df.to_csv('student_pupil_ratio_df.csv')"
   ]
  },
  {
   "cell_type": "markdown",
   "metadata": {
    "collapsed": true
   },
   "source": [
    "__Let's get a feeling for the data__\n",
    "\n",
    "use .head() to view the top of the DataFrames"
   ]
  },
  {
   "cell_type": "code",
   "execution_count": 11,
   "metadata": {},
   "outputs": [
    {
     "data": {
      "text/html": [
       "<div>\n",
       "<style scoped>\n",
       "    .dataframe tbody tr th:only-of-type {\n",
       "        vertical-align: middle;\n",
       "    }\n",
       "\n",
       "    .dataframe tbody tr th {\n",
       "        vertical-align: top;\n",
       "    }\n",
       "\n",
       "    .dataframe thead th {\n",
       "        text-align: right;\n",
       "    }\n",
       "</style>\n",
       "<table border=\"1\" class=\"dataframe\">\n",
       "  <thead>\n",
       "    <tr style=\"text-align: right;\">\n",
       "      <th></th>\n",
       "      <th>Adjusted Grade</th>\n",
       "      <th>New?</th>\n",
       "      <th>Other Location Code in LCGMS</th>\n",
       "      <th>School Name</th>\n",
       "      <th>SED Code</th>\n",
       "      <th>Location Code</th>\n",
       "      <th>District</th>\n",
       "      <th>Latitude</th>\n",
       "      <th>Longitude</th>\n",
       "      <th>Address (Full)</th>\n",
       "      <th>...</th>\n",
       "      <th>Grade 8 Math - All Students Tested</th>\n",
       "      <th>Grade 8 Math 4s - All Students</th>\n",
       "      <th>Grade 8 Math 4s - American Indian or Alaska Native</th>\n",
       "      <th>Grade 8 Math 4s - Black or African American</th>\n",
       "      <th>Grade 8 Math 4s - Hispanic or Latino</th>\n",
       "      <th>Grade 8 Math 4s - Asian or Pacific Islander</th>\n",
       "      <th>Grade 8 Math 4s - White</th>\n",
       "      <th>Grade 8 Math 4s - Multiracial</th>\n",
       "      <th>Grade 8 Math 4s - Limited English Proficient</th>\n",
       "      <th>Grade 8 Math 4s - Economically Disadvantaged</th>\n",
       "    </tr>\n",
       "  </thead>\n",
       "  <tbody>\n",
       "    <tr>\n",
       "      <th>0</th>\n",
       "      <td>NaN</td>\n",
       "      <td>NaN</td>\n",
       "      <td>NaN</td>\n",
       "      <td>P.S. 015 ROBERTO CLEMENTE</td>\n",
       "      <td>310100010015</td>\n",
       "      <td>01M015</td>\n",
       "      <td>1</td>\n",
       "      <td>40.721834</td>\n",
       "      <td>-73.978766</td>\n",
       "      <td>333 E 4TH ST NEW YORK, NY 10009</td>\n",
       "      <td>...</td>\n",
       "      <td>0</td>\n",
       "      <td>0</td>\n",
       "      <td>0</td>\n",
       "      <td>0</td>\n",
       "      <td>0</td>\n",
       "      <td>0</td>\n",
       "      <td>0</td>\n",
       "      <td>0</td>\n",
       "      <td>0</td>\n",
       "      <td>0</td>\n",
       "    </tr>\n",
       "    <tr>\n",
       "      <th>1</th>\n",
       "      <td>NaN</td>\n",
       "      <td>NaN</td>\n",
       "      <td>NaN</td>\n",
       "      <td>P.S. 019 ASHER LEVY</td>\n",
       "      <td>310100010019</td>\n",
       "      <td>01M019</td>\n",
       "      <td>1</td>\n",
       "      <td>40.729892</td>\n",
       "      <td>-73.984231</td>\n",
       "      <td>185 1ST AVE NEW YORK, NY 10003</td>\n",
       "      <td>...</td>\n",
       "      <td>0</td>\n",
       "      <td>0</td>\n",
       "      <td>0</td>\n",
       "      <td>0</td>\n",
       "      <td>0</td>\n",
       "      <td>0</td>\n",
       "      <td>0</td>\n",
       "      <td>0</td>\n",
       "      <td>0</td>\n",
       "      <td>0</td>\n",
       "    </tr>\n",
       "    <tr>\n",
       "      <th>2</th>\n",
       "      <td>NaN</td>\n",
       "      <td>NaN</td>\n",
       "      <td>NaN</td>\n",
       "      <td>P.S. 020 ANNA SILVER</td>\n",
       "      <td>310100010020</td>\n",
       "      <td>01M020</td>\n",
       "      <td>1</td>\n",
       "      <td>40.721274</td>\n",
       "      <td>-73.986315</td>\n",
       "      <td>166 ESSEX ST NEW YORK, NY 10002</td>\n",
       "      <td>...</td>\n",
       "      <td>0</td>\n",
       "      <td>0</td>\n",
       "      <td>0</td>\n",
       "      <td>0</td>\n",
       "      <td>0</td>\n",
       "      <td>0</td>\n",
       "      <td>0</td>\n",
       "      <td>0</td>\n",
       "      <td>0</td>\n",
       "      <td>0</td>\n",
       "    </tr>\n",
       "    <tr>\n",
       "      <th>3</th>\n",
       "      <td>NaN</td>\n",
       "      <td>NaN</td>\n",
       "      <td>NaN</td>\n",
       "      <td>P.S. 034 FRANKLIN D. ROOSEVELT</td>\n",
       "      <td>310100010034</td>\n",
       "      <td>01M034</td>\n",
       "      <td>1</td>\n",
       "      <td>40.726147</td>\n",
       "      <td>-73.975043</td>\n",
       "      <td>730 E 12TH ST NEW YORK, NY 10009</td>\n",
       "      <td>...</td>\n",
       "      <td>48</td>\n",
       "      <td>1</td>\n",
       "      <td>0</td>\n",
       "      <td>0</td>\n",
       "      <td>0</td>\n",
       "      <td>0</td>\n",
       "      <td>0</td>\n",
       "      <td>0</td>\n",
       "      <td>0</td>\n",
       "      <td>0</td>\n",
       "    </tr>\n",
       "    <tr>\n",
       "      <th>4</th>\n",
       "      <td>NaN</td>\n",
       "      <td>NaN</td>\n",
       "      <td>NaN</td>\n",
       "      <td>THE STAR ACADEMY - P.S.63</td>\n",
       "      <td>310100010063</td>\n",
       "      <td>01M063</td>\n",
       "      <td>1</td>\n",
       "      <td>40.724404</td>\n",
       "      <td>-73.986360</td>\n",
       "      <td>121 E 3RD ST NEW YORK, NY 10009</td>\n",
       "      <td>...</td>\n",
       "      <td>0</td>\n",
       "      <td>0</td>\n",
       "      <td>0</td>\n",
       "      <td>0</td>\n",
       "      <td>0</td>\n",
       "      <td>0</td>\n",
       "      <td>0</td>\n",
       "      <td>0</td>\n",
       "      <td>0</td>\n",
       "      <td>0</td>\n",
       "    </tr>\n",
       "  </tbody>\n",
       "</table>\n",
       "<p>5 rows × 161 columns</p>\n",
       "</div>"
      ],
      "text/plain": [
       "  Adjusted Grade New? Other Location Code in LCGMS  \\\n",
       "0            NaN  NaN                          NaN   \n",
       "1            NaN  NaN                          NaN   \n",
       "2            NaN  NaN                          NaN   \n",
       "3            NaN  NaN                          NaN   \n",
       "4            NaN  NaN                          NaN   \n",
       "\n",
       "                      School Name      SED Code Location Code  District  \\\n",
       "0       P.S. 015 ROBERTO CLEMENTE  310100010015        01M015         1   \n",
       "1             P.S. 019 ASHER LEVY  310100010019        01M019         1   \n",
       "2            P.S. 020 ANNA SILVER  310100010020        01M020         1   \n",
       "3  P.S. 034 FRANKLIN D. ROOSEVELT  310100010034        01M034         1   \n",
       "4       THE STAR ACADEMY - P.S.63  310100010063        01M063         1   \n",
       "\n",
       "    Latitude  Longitude                    Address (Full)  \\\n",
       "0  40.721834 -73.978766   333 E 4TH ST NEW YORK, NY 10009   \n",
       "1  40.729892 -73.984231    185 1ST AVE NEW YORK, NY 10003   \n",
       "2  40.721274 -73.986315   166 ESSEX ST NEW YORK, NY 10002   \n",
       "3  40.726147 -73.975043  730 E 12TH ST NEW YORK, NY 10009   \n",
       "4  40.724404 -73.986360   121 E 3RD ST NEW YORK, NY 10009   \n",
       "\n",
       "                      ...                       \\\n",
       "0                     ...                        \n",
       "1                     ...                        \n",
       "2                     ...                        \n",
       "3                     ...                        \n",
       "4                     ...                        \n",
       "\n",
       "  Grade 8 Math - All Students Tested  Grade 8 Math 4s - All Students  \\\n",
       "0                                  0                               0   \n",
       "1                                  0                               0   \n",
       "2                                  0                               0   \n",
       "3                                 48                               1   \n",
       "4                                  0                               0   \n",
       "\n",
       "  Grade 8 Math 4s - American Indian or Alaska Native  \\\n",
       "0                                                  0   \n",
       "1                                                  0   \n",
       "2                                                  0   \n",
       "3                                                  0   \n",
       "4                                                  0   \n",
       "\n",
       "  Grade 8 Math 4s - Black or African American  \\\n",
       "0                                           0   \n",
       "1                                           0   \n",
       "2                                           0   \n",
       "3                                           0   \n",
       "4                                           0   \n",
       "\n",
       "  Grade 8 Math 4s - Hispanic or Latino  \\\n",
       "0                                    0   \n",
       "1                                    0   \n",
       "2                                    0   \n",
       "3                                    0   \n",
       "4                                    0   \n",
       "\n",
       "  Grade 8 Math 4s - Asian or Pacific Islander  Grade 8 Math 4s - White  \\\n",
       "0                                           0                        0   \n",
       "1                                           0                        0   \n",
       "2                                           0                        0   \n",
       "3                                           0                        0   \n",
       "4                                           0                        0   \n",
       "\n",
       "  Grade 8 Math 4s - Multiracial Grade 8 Math 4s - Limited English Proficient  \\\n",
       "0                             0                                            0   \n",
       "1                             0                                            0   \n",
       "2                             0                                            0   \n",
       "3                             0                                            0   \n",
       "4                             0                                            0   \n",
       "\n",
       "  Grade 8 Math 4s - Economically Disadvantaged  \n",
       "0                                            0  \n",
       "1                                            0  \n",
       "2                                            0  \n",
       "3                                            0  \n",
       "4                                            0  \n",
       "\n",
       "[5 rows x 161 columns]"
      ]
     },
     "execution_count": 11,
     "metadata": {},
     "output_type": "execute_result"
    }
   ],
   "source": [
    "kaggle_school_data_df.head()"
   ]
  },
  {
   "cell_type": "code",
   "execution_count": 14,
   "metadata": {},
   "outputs": [
    {
     "data": {
      "text/plain": [
       "['Adjusted Grade',\n",
       " 'New?',\n",
       " 'Other Location Code in LCGMS',\n",
       " 'School Name',\n",
       " 'SED Code',\n",
       " 'Location Code',\n",
       " 'District',\n",
       " 'Latitude',\n",
       " 'Longitude',\n",
       " 'Address (Full)',\n",
       " 'City',\n",
       " 'Zip',\n",
       " 'Grades',\n",
       " 'Grade Low',\n",
       " 'Grade High',\n",
       " 'Community School?',\n",
       " 'Economic Need Index',\n",
       " 'School Income Estimate',\n",
       " 'Percent ELL',\n",
       " 'Percent Asian',\n",
       " 'Percent Black',\n",
       " 'Percent Hispanic',\n",
       " 'Percent Black / Hispanic',\n",
       " 'Percent White',\n",
       " 'Student Attendance Rate',\n",
       " 'Percent of Students Chronically Absent',\n",
       " 'Rigorous Instruction %',\n",
       " 'Rigorous Instruction Rating',\n",
       " 'Collaborative Teachers %',\n",
       " 'Collaborative Teachers Rating',\n",
       " 'Supportive Environment %',\n",
       " 'Supportive Environment Rating',\n",
       " 'Effective School Leadership %',\n",
       " 'Effective School Leadership Rating',\n",
       " 'Strong Family-Community Ties %',\n",
       " 'Strong Family-Community Ties Rating',\n",
       " 'Trust %',\n",
       " 'Trust Rating',\n",
       " 'Student Achievement Rating',\n",
       " 'Average ELA Proficiency',\n",
       " 'Average Math Proficiency',\n",
       " 'Grade 3 ELA - All Students Tested',\n",
       " 'Grade 3 ELA 4s - All Students',\n",
       " 'Grade 3 ELA 4s - American Indian or Alaska Native',\n",
       " 'Grade 3 ELA 4s - Black or African American',\n",
       " 'Grade 3 ELA 4s - Hispanic or Latino',\n",
       " 'Grade 3 ELA 4s - Asian or Pacific Islander',\n",
       " 'Grade 3 ELA 4s - White',\n",
       " 'Grade 3 ELA 4s - Multiracial',\n",
       " 'Grade 3 ELA 4s - Limited English Proficient',\n",
       " 'Grade 3 ELA 4s - Economically Disadvantaged',\n",
       " 'Grade 3 Math - All Students tested',\n",
       " 'Grade 3 Math 4s - All Students',\n",
       " 'Grade 3 Math 4s - American Indian or Alaska Native',\n",
       " 'Grade 3 Math 4s - Black or African American',\n",
       " 'Grade 3 Math 4s - Hispanic or Latino',\n",
       " 'Grade 3 Math 4s - Asian or Pacific Islander',\n",
       " 'Grade 3 Math 4s - White',\n",
       " 'Grade 3 Math 4s - Multiracial',\n",
       " 'Grade 3 Math 4s - Limited English Proficient',\n",
       " 'Grade 3 Math 4s - Economically Disadvantaged',\n",
       " 'Grade 4 ELA - All Students Tested',\n",
       " 'Grade 4 ELA 4s - All Students',\n",
       " 'Grade 4 ELA 4s - American Indian or Alaska Native',\n",
       " 'Grade 4 ELA 4s - Black or African American',\n",
       " 'Grade 4 ELA 4s - Hispanic or Latino',\n",
       " 'Grade 4 ELA 4s - Asian or Pacific Islander',\n",
       " 'Grade 4 ELA 4s - White',\n",
       " 'Grade 4 ELA 4s - Multiracial',\n",
       " 'Grade 4 ELA 4s - Limited English Proficient',\n",
       " 'Grade 4 ELA 4s - Economically Disadvantaged',\n",
       " 'Grade 4 Math - All Students Tested',\n",
       " 'Grade 4 Math 4s - All Students',\n",
       " 'Grade 4 Math 4s - American Indian or Alaska Native',\n",
       " 'Grade 4 Math 4s - Black or African American',\n",
       " 'Grade 4 Math 4s - Hispanic or Latino',\n",
       " 'Grade 4 Math 4s - Asian or Pacific Islander',\n",
       " 'Grade 4 Math 4s - White',\n",
       " 'Grade 4 Math 4s - Multiracial',\n",
       " 'Grade 4 Math 4s - Limited English Proficient',\n",
       " 'Grade 4 Math 4s - Economically Disadvantaged',\n",
       " 'Grade 5 ELA - All Students Tested',\n",
       " 'Grade 5 ELA 4s - All Students',\n",
       " 'Grade 5 ELA 4s - American Indian or Alaska Native',\n",
       " 'Grade 5 ELA 4s - Black or African American',\n",
       " 'Grade 5 ELA 4s - Hispanic or Latino',\n",
       " 'Grade 5 ELA 4s - Asian or Pacific Islander',\n",
       " 'Grade 5 ELA 4s - White',\n",
       " 'Grade 5 ELA 4s - Multiracial',\n",
       " 'Grade 5 ELA 4s - Limited English Proficient',\n",
       " 'Grade 5 ELA 4s - Economically Disadvantaged',\n",
       " 'Grade 5 Math - All Students Tested',\n",
       " 'Grade 5 Math 4s - All Students',\n",
       " 'Grade 5 Math 4s - American Indian or Alaska Native',\n",
       " 'Grade 5 Math 4s - Black or African American',\n",
       " 'Grade 5 Math 4s - Hispanic or Latino',\n",
       " 'Grade 5 Math 4s - Asian or Pacific Islander',\n",
       " 'Grade 5 Math 4s - White',\n",
       " 'Grade 5 Math 4s - Multiracial',\n",
       " 'Grade 5 Math 4s - Limited English Proficient',\n",
       " 'Grade 5 Math 4s - Economically Disadvantaged',\n",
       " 'Grade 6 ELA - All Students Tested',\n",
       " 'Grade 6 ELA 4s - All Students',\n",
       " 'Grade 6 ELA 4s - American Indian or Alaska Native',\n",
       " 'Grade 6 ELA 4s - Black or African American',\n",
       " 'Grade 6 ELA 4s - Hispanic or Latino',\n",
       " 'Grade 6 ELA 4s - Asian or Pacific Islander',\n",
       " 'Grade 6 ELA 4s - White',\n",
       " 'Grade 6 ELA 4s - Multiracial',\n",
       " 'Grade 6 ELA 4s - Limited English Proficient',\n",
       " 'Grade 6 ELA 4s - Economically Disadvantaged',\n",
       " 'Grade 6 Math - All Students Tested',\n",
       " 'Grade 6 Math 4s - All Students',\n",
       " 'Grade 6 Math 4s - American Indian or Alaska Native',\n",
       " 'Grade 6 Math 4s - Black or African American',\n",
       " 'Grade 6 Math 4s - Hispanic or Latino',\n",
       " 'Grade 6 Math 4s - Asian or Pacific Islander',\n",
       " 'Grade 6 Math 4s - White',\n",
       " 'Grade 6 Math 4s - Multiracial',\n",
       " 'Grade 6 Math 4s - Limited English Proficient',\n",
       " 'Grade 6 Math 4s - Economically Disadvantaged',\n",
       " 'Grade 7 ELA - All Students Tested',\n",
       " 'Grade 7 ELA 4s - All Students',\n",
       " 'Grade 7 ELA 4s - American Indian or Alaska Native',\n",
       " 'Grade 7 ELA 4s - Black or African American',\n",
       " 'Grade 7 ELA 4s - Hispanic or Latino',\n",
       " 'Grade 7 ELA 4s - Asian or Pacific Islander',\n",
       " 'Grade 7 ELA 4s - White',\n",
       " 'Grade 7 ELA 4s - Multiracial',\n",
       " 'Grade 7 ELA 4s - Limited English Proficient',\n",
       " 'Grade 7 ELA 4s - Economically Disadvantaged',\n",
       " 'Grade 7 Math - All Students Tested',\n",
       " 'Grade 7 Math 4s - All Students',\n",
       " 'Grade 7 Math 4s - American Indian or Alaska Native',\n",
       " 'Grade 7 Math 4s - Black or African American',\n",
       " 'Grade 7 Math 4s - Hispanic or Latino',\n",
       " 'Grade 7 Math 4s - Asian or Pacific Islander',\n",
       " 'Grade 7 Math 4s - White',\n",
       " 'Grade 7 Math 4s - Multiracial',\n",
       " 'Grade 7 Math 4s - Limited English Proficient',\n",
       " 'Grade 7 Math 4s - Economically Disadvantaged',\n",
       " 'Grade 8 ELA - All Students Tested',\n",
       " 'Grade 8 ELA 4s - All Students',\n",
       " 'Grade 8 ELA 4s - American Indian or Alaska Native',\n",
       " 'Grade 8 ELA 4s - Black or African American',\n",
       " 'Grade 8 ELA 4s - Hispanic or Latino',\n",
       " 'Grade 8 ELA 4s - Asian or Pacific Islander',\n",
       " 'Grade 8 ELA 4s - White',\n",
       " 'Grade 8 ELA 4s - Multiracial',\n",
       " 'Grade 8 ELA 4s - Limited English Proficient',\n",
       " 'Grade 8 ELA 4s - Economically Disadvantaged',\n",
       " 'Grade 8 Math - All Students Tested',\n",
       " 'Grade 8 Math 4s - All Students',\n",
       " 'Grade 8 Math 4s - American Indian or Alaska Native',\n",
       " 'Grade 8 Math 4s - Black or African American',\n",
       " 'Grade 8 Math 4s - Hispanic or Latino',\n",
       " 'Grade 8 Math 4s - Asian or Pacific Islander',\n",
       " 'Grade 8 Math 4s - White',\n",
       " 'Grade 8 Math 4s - Multiracial',\n",
       " 'Grade 8 Math 4s - Limited English Proficient',\n",
       " 'Grade 8 Math 4s - Economically Disadvantaged']"
      ]
     },
     "execution_count": 14,
     "metadata": {},
     "output_type": "execute_result"
    }
   ],
   "source": [
    "list(kaggle_school_data_df.columns)"
   ]
  },
  {
   "cell_type": "markdown",
   "metadata": {},
   "source": [
    "Here we decided on keeping the different grade level test results out of our model. We just want the overall school proficiency included. Futher, we worked together to deicde on the base predictors to keep to start working on the model."
   ]
  },
  {
   "cell_type": "code",
   "execution_count": 17,
   "metadata": {},
   "outputs": [],
   "source": [
    "kaggle_school_data_df.drop(['Grade 3 ELA - All Students Tested',\n",
    "                            'Grade 3 ELA 4s - All Students','Grade 3 ELA 4s - American Indian or Alaska Native',\n",
    "                            'Grade 3 ELA 4s - Black or African American','Grade 3 ELA 4s - Hispanic or Latino',\n",
    "                            'Grade 3 ELA 4s - Asian or Pacific Islander','Grade 3 ELA 4s - White','Grade 3 ELA 4s - Multiracial',\n",
    "                            'Grade 3 ELA 4s - Limited English Proficient','Grade 3 ELA 4s - Economically Disadvantaged',\n",
    "                            'Grade 3 Math - All Students tested','Grade 3 Math 4s - All Students','Grade 3 Math 4s - American Indian or Alaska Native',\n",
    "                            'Grade 3 Math 4s - Black or African American','Grade 3 Math 4s - Hispanic or Latino',\n",
    "                            'Grade 3 Math 4s - Asian or Pacific Islander','Grade 3 Math 4s - White',\n",
    "                            'Grade 3 Math 4s - Multiracial','Grade 3 Math 4s - Limited English Proficient',\n",
    "                            'Grade 3 Math 4s - Economically Disadvantaged','Grade 4 ELA - All Students Tested',\n",
    "                            'Grade 4 ELA 4s - All Students','Grade 4 ELA 4s - American Indian or Alaska Native',\n",
    "                            'Grade 4 ELA 4s - Black or African American','Grade 4 ELA 4s - Hispanic or Latino',\n",
    "                            'Grade 4 ELA 4s - Asian or Pacific Islander','Grade 4 ELA 4s - White',\n",
    "                            'Grade 4 ELA 4s - Multiracial','Grade 4 ELA 4s - Limited English Proficient',\n",
    "                            'Grade 4 ELA 4s - Economically Disadvantaged','Grade 4 Math - All Students Tested',\n",
    "                            'Grade 4 Math 4s - All Students','Grade 4 Math 4s - American Indian or Alaska Native',\n",
    "                            'Grade 4 Math 4s - Black or African American','Grade 4 Math 4s - Hispanic or Latino',\n",
    "                            'Grade 4 Math 4s - Asian or Pacific Islander','Grade 4 Math 4s - White',\n",
    "                            'Grade 4 Math 4s - Multiracial','Grade 4 Math 4s - Limited English Proficient',\n",
    "                            'Grade 4 Math 4s - Economically Disadvantaged','Grade 5 ELA - All Students Tested',\n",
    "                            'Grade 5 ELA 4s - All Students','Grade 5 ELA 4s - American Indian or Alaska Native',\n",
    "                            'Grade 5 ELA 4s - Black or African American','Grade 5 ELA 4s - Hispanic or Latino',\n",
    "                            'Grade 5 ELA 4s - Asian or Pacific Islander','Grade 5 ELA 4s - White','Grade 5 ELA 4s - Multiracial',\n",
    "                            'Grade 5 ELA 4s - Limited English Proficient','Grade 5 ELA 4s - Economically Disadvantaged',\n",
    "                            'Grade 5 Math - All Students Tested','Grade 5 Math 4s - All Students',\n",
    "                            'Grade 5 Math 4s - American Indian or Alaska Native','Grade 5 Math 4s - Black or African American',\n",
    "                            'Grade 5 Math 4s - Hispanic or Latino','Grade 5 Math 4s - Asian or Pacific Islander','Grade 5 Math 4s - White',\n",
    "                            'Grade 5 Math 4s - Multiracial','Grade 5 Math 4s - Limited English Proficient','Grade 5 Math 4s - Economically Disadvantaged',\n",
    "                            'Grade 6 ELA - All Students Tested','Grade 6 ELA 4s - All Students',\n",
    "                            'Grade 6 ELA 4s - American Indian or Alaska Native','Grade 6 ELA 4s - Black or African American',\n",
    "                            'Grade 6 ELA 4s - Hispanic or Latino','Grade 6 ELA 4s - Asian or Pacific Islander',\n",
    "                            'Grade 6 ELA 4s - White','Grade 6 ELA 4s - Multiracial',\n",
    "                            'Grade 6 ELA 4s - Limited English Proficient','Grade 6 ELA 4s - Economically Disadvantaged',\n",
    "                            'Grade 6 Math - All Students Tested','Grade 6 Math 4s - All Students',\n",
    "                            'Grade 6 Math 4s - American Indian or Alaska Native','Grade 6 Math 4s - Black or African American',\n",
    "                            'Grade 6 Math 4s - Hispanic or Latino','Grade 6 Math 4s - Asian or Pacific Islander',\n",
    "                            'Grade 6 Math 4s - White','Grade 6 Math 4s - Multiracial',\n",
    "                            'Grade 6 Math 4s - Limited English Proficient','Grade 6 Math 4s - Economically Disadvantaged',\n",
    "                            'Grade 7 ELA - All Students Tested','Grade 7 ELA 4s - All Students',\n",
    "                            'Grade 7 ELA 4s - American Indian or Alaska Native','Grade 7 ELA 4s - Black or African American',\n",
    "                            'Grade 7 ELA 4s - Hispanic or Latino','Grade 7 ELA 4s - Asian or Pacific Islander',\n",
    "                            'Grade 7 ELA 4s - White','Grade 7 ELA 4s - Multiracial','Grade 7 ELA 4s - Limited English Proficient',\n",
    "                            'Grade 7 ELA 4s - Economically Disadvantaged','Grade 7 Math - All Students Tested',\n",
    "                            'Grade 7 Math 4s - All Students','Grade 7 Math 4s - American Indian or Alaska Native',\n",
    "                            'Grade 7 Math 4s - Black or African American','Grade 7 Math 4s - Hispanic or Latino','Grade 7 Math 4s - Asian or Pacific Islander',\n",
    "                            'Grade 7 Math 4s - White','Grade 7 Math 4s - Multiracial','Grade 7 Math 4s - Limited English Proficient',\n",
    "                            'Grade 7 Math 4s - Economically Disadvantaged','Grade 8 ELA - All Students Tested','Grade 8 ELA 4s - All Students',\n",
    "                            'Grade 8 ELA 4s - American Indian or Alaska Native','Grade 8 ELA 4s - Black or African American',\n",
    "                            'Grade 8 ELA 4s - Hispanic or Latino','Grade 8 ELA 4s - Asian or Pacific Islander','Grade 8 ELA 4s - White',\n",
    "                            'Grade 8 ELA 4s - Multiracial','Grade 8 ELA 4s - Limited English Proficient','Grade 8 ELA 4s - Economically Disadvantaged',\n",
    "                            'Grade 8 Math - All Students Tested','Grade 8 Math 4s - All Students','Grade 8 Math 4s - American Indian or Alaska Native',\n",
    "                            'Grade 8 Math 4s - Black or African American','Grade 8 Math 4s - Hispanic or Latino',\n",
    "                            'Grade 8 Math 4s - Asian or Pacific Islander','Grade 8 Math 4s - White','Grade 8 Math 4s - Multiracial',\n",
    "                            'Grade 8 Math 4s - Limited English Proficient','Grade 8 Math 4s - Economically Disadvantaged'], axis=1,inplace=True)"
   ]
  },
  {
   "cell_type": "code",
   "execution_count": 19,
   "metadata": {},
   "outputs": [
    {
     "data": {
      "text/plain": [
       "Index(['School Name', 'SED Code', 'Location Code', 'District', 'Latitude',\n",
       "       'Longitude', 'Zip', 'Grades', 'Community School?',\n",
       "       'Economic Need Index', 'School Income Estimate', 'Percent ELL',\n",
       "       'Percent Asian', 'Percent Black', 'Percent Hispanic',\n",
       "       'Percent Black / Hispanic', 'Percent White',\n",
       "       'Percent of Students Chronically Absent', 'Rigorous Instruction %',\n",
       "       'Rigorous Instruction Rating', 'Collaborative Teachers %',\n",
       "       'Collaborative Teachers Rating', 'Supportive Environment %',\n",
       "       'Supportive Environment Rating', 'Effective School Leadership %',\n",
       "       'Effective School Leadership Rating', 'Strong Family-Community Ties %',\n",
       "       'Strong Family-Community Ties Rating', 'Trust %', 'Trust Rating',\n",
       "       'Student Achievement Rating', 'Average ELA Proficiency',\n",
       "       'Average Math Proficiency'],\n",
       "      dtype='object')"
      ]
     },
     "execution_count": 19,
     "metadata": {},
     "output_type": "execute_result"
    }
   ],
   "source": [
    "# kaggle_school_data_df.columns\n",
    "kaggle_school_data_df.drop(['Adjusted Grade', 'New?', 'Other Location Code in LCGMS',\n",
    "                           'Address (Full)', 'City','Grade Low', 'Grade High','Student Attendance Rate'],\n",
    "                           axis=1, inplace=True)\n",
    "kaggle_school_data_df."
   ]
  },
  {
   "cell_type": "markdown",
   "metadata": {},
   "source": [
    "Here we will remove the columns that provide a \"rating\" and keep the versions with percentages (%)"
   ]
  },
  {
   "cell_type": "code",
   "execution_count": 20,
   "metadata": {
    "collapsed": true
   },
   "outputs": [],
   "source": [
    "kaggle_school_data_df.drop(['School Name', 'SED Code','Trust Rating',\n",
    "                           'Rigorous Instruction Rating','Collaborative Teachers Rating',\n",
    "                           'Supportive Environment Rating','Effective School Leadership Rating',\n",
    "                           'Strong Family-Community Ties Rating','Trust Rating'],axis=1, inplace=True)"
   ]
  },
  {
   "cell_type": "markdown",
   "metadata": {},
   "source": [
    "__We also decided that it we could take the two tests for proficincy: 'Average ELA Proficiency' and 'Average Math Proficiency' and create a new column out of them called \"Averge Proficiency, which add the two for a new proficiency score. This will be the value we are trying to predict.__"
   ]
  },
  {
   "cell_type": "code",
   "execution_count": 22,
   "metadata": {
    "collapsed": true
   },
   "outputs": [],
   "source": [
    "kaggle_school_data_df['Total Proficiency'] = kaggle_school_data_df['Average ELA Proficiency'] + kaggle_school_data_df['Average Math Proficiency']"
   ]
  },
  {
   "cell_type": "code",
   "execution_count": 25,
   "metadata": {
    "collapsed": true
   },
   "outputs": [],
   "source": [
    "#get rid of the two score columns now that we have a composite score\n",
    "kaggle_school_data_df.drop(['Average ELA Proficiency','Average Math Proficiency'],axis=1,inplace=True)"
   ]
  },
  {
   "cell_type": "code",
   "execution_count": 26,
   "metadata": {},
   "outputs": [
    {
     "data": {
      "text/html": [
       "<div>\n",
       "<style scoped>\n",
       "    .dataframe tbody tr th:only-of-type {\n",
       "        vertical-align: middle;\n",
       "    }\n",
       "\n",
       "    .dataframe tbody tr th {\n",
       "        vertical-align: top;\n",
       "    }\n",
       "\n",
       "    .dataframe thead th {\n",
       "        text-align: right;\n",
       "    }\n",
       "</style>\n",
       "<table border=\"1\" class=\"dataframe\">\n",
       "  <thead>\n",
       "    <tr style=\"text-align: right;\">\n",
       "      <th></th>\n",
       "      <th>Location Code</th>\n",
       "      <th>District</th>\n",
       "      <th>Latitude</th>\n",
       "      <th>Longitude</th>\n",
       "      <th>Zip</th>\n",
       "      <th>Grades</th>\n",
       "      <th>Community School?</th>\n",
       "      <th>Economic Need Index</th>\n",
       "      <th>School Income Estimate</th>\n",
       "      <th>Percent ELL</th>\n",
       "      <th>...</th>\n",
       "      <th>Percent White</th>\n",
       "      <th>Percent of Students Chronically Absent</th>\n",
       "      <th>Rigorous Instruction %</th>\n",
       "      <th>Collaborative Teachers %</th>\n",
       "      <th>Supportive Environment %</th>\n",
       "      <th>Effective School Leadership %</th>\n",
       "      <th>Strong Family-Community Ties %</th>\n",
       "      <th>Trust %</th>\n",
       "      <th>Student Achievement Rating</th>\n",
       "      <th>Total Proficiency</th>\n",
       "    </tr>\n",
       "  </thead>\n",
       "  <tbody>\n",
       "    <tr>\n",
       "      <th>0</th>\n",
       "      <td>01M015</td>\n",
       "      <td>1</td>\n",
       "      <td>40.721834</td>\n",
       "      <td>-73.978766</td>\n",
       "      <td>10009</td>\n",
       "      <td>PK,0K,01,02,03,04,05</td>\n",
       "      <td>Yes</td>\n",
       "      <td>0.919</td>\n",
       "      <td>$31,141.72</td>\n",
       "      <td>9%</td>\n",
       "      <td>...</td>\n",
       "      <td>1%</td>\n",
       "      <td>18%</td>\n",
       "      <td>89%</td>\n",
       "      <td>94%</td>\n",
       "      <td>86%</td>\n",
       "      <td>91%</td>\n",
       "      <td>85%</td>\n",
       "      <td>94%</td>\n",
       "      <td>Approaching Target</td>\n",
       "      <td>4.31</td>\n",
       "    </tr>\n",
       "    <tr>\n",
       "      <th>1</th>\n",
       "      <td>01M019</td>\n",
       "      <td>1</td>\n",
       "      <td>40.729892</td>\n",
       "      <td>-73.984231</td>\n",
       "      <td>10003</td>\n",
       "      <td>PK,0K,01,02,03,04,05</td>\n",
       "      <td>No</td>\n",
       "      <td>0.641</td>\n",
       "      <td>$56,462.88</td>\n",
       "      <td>5%</td>\n",
       "      <td>...</td>\n",
       "      <td>6%</td>\n",
       "      <td>30%</td>\n",
       "      <td>96%</td>\n",
       "      <td>96%</td>\n",
       "      <td>97%</td>\n",
       "      <td>90%</td>\n",
       "      <td>86%</td>\n",
       "      <td>94%</td>\n",
       "      <td>Exceeding Target</td>\n",
       "      <td>5.61</td>\n",
       "    </tr>\n",
       "  </tbody>\n",
       "</table>\n",
       "<p>2 rows × 24 columns</p>\n",
       "</div>"
      ],
      "text/plain": [
       "  Location Code  District   Latitude  Longitude    Zip                Grades  \\\n",
       "0        01M015         1  40.721834 -73.978766  10009  PK,0K,01,02,03,04,05   \n",
       "1        01M019         1  40.729892 -73.984231  10003  PK,0K,01,02,03,04,05   \n",
       "\n",
       "  Community School?  Economic Need Index School Income Estimate Percent ELL  \\\n",
       "0               Yes                0.919            $31,141.72           9%   \n",
       "1                No                0.641            $56,462.88           5%   \n",
       "\n",
       "         ...        Percent White Percent of Students Chronically Absent  \\\n",
       "0        ...                   1%                                    18%   \n",
       "1        ...                   6%                                    30%   \n",
       "\n",
       "  Rigorous Instruction % Collaborative Teachers % Supportive Environment %  \\\n",
       "0                    89%                      94%                      86%   \n",
       "1                    96%                      96%                      97%   \n",
       "\n",
       "  Effective School Leadership % Strong Family-Community Ties % Trust %  \\\n",
       "0                           91%                            85%     94%   \n",
       "1                           90%                            86%     94%   \n",
       "\n",
       "  Student Achievement Rating Total Proficiency  \n",
       "0         Approaching Target              4.31  \n",
       "1           Exceeding Target              5.61  \n",
       "\n",
       "[2 rows x 24 columns]"
      ]
     },
     "execution_count": 26,
     "metadata": {},
     "output_type": "execute_result"
    }
   ],
   "source": [
    "kaggle_school_data_df.head(2)"
   ]
  },
  {
   "cell_type": "markdown",
   "metadata": {},
   "source": [
    "We can see that all the data that represent percentanges are probably sting items due to their use of % in each cell. So, in the next cell we will delete the '%' and divide by 100 to get the correct percentage as a float."
   ]
  },
  {
   "cell_type": "code",
   "execution_count": null,
   "metadata": {
    "collapsed": true
   },
   "outputs": [],
   "source": []
  }
 ],
 "metadata": {
  "kernelspec": {
   "display_name": "Python 3",
   "language": "python",
   "name": "python3"
  },
  "language_info": {
   "codemirror_mode": {
    "name": "ipython",
    "version": 3
   },
   "file_extension": ".py",
   "mimetype": "text/x-python",
   "name": "python",
   "nbconvert_exporter": "python",
   "pygments_lexer": "ipython3",
   "version": "3.6.8"
  }
 },
 "nbformat": 4,
 "nbformat_minor": 2
}
